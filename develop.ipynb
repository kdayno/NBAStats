{
 "cells": [
  {
   "cell_type": "code",
   "execution_count": 1,
   "metadata": {},
   "outputs": [],
   "source": [
    "from requests import get\n",
    "from pprint import PrettyPrinter\n",
    "import pyodbc\n",
    "import pandas as pd\n",
    "import sqlalchemy as db\n",
    "import urllib\n",
    "import datetime as dt\n",
    "\n",
    "printer = PrettyPrinter()\n",
    "\n",
    "base_url = \"https://data.nba.net\" \n",
    "all_json = \"/prod/v1/today.json\" "
   ]
  },
  {
   "cell_type": "code",
   "execution_count": null,
   "metadata": {},
   "outputs": [],
   "source": [
    "# NBA Stats - JSON Endpoints\n",
    "# http://data.nba.net/10s/prod/v1/2021/players.json > Player data for a specific year\n",
    "# https://data.nba.net/10s/prod/v1/2021/teams.json > Team data for a specific year\n",
    "# http://data.nba.net/data/10s/prod/v1/20180928/0011800001_boxscore.json > Box score data for a specific game (needs date and game id)\n",
    "# https://data.nba.net/10s/prod/v1/20180929/scoreboard.json > Box scores for all games on a specific day (needs date)\n",
    "# https://data.nba.net/10s/prod/v1/2021/schedule.json > Schedule data for a specific year"
   ]
  },
  {
   "cell_type": "code",
   "execution_count": null,
   "metadata": {},
   "outputs": [],
   "source": [
    "# GETS TEAM ROSTER DATA\n",
    "# team_roster_endpoint = api.data_links['teamRoster']\n",
    "# team_roster_endpoint = team_roster_endpoint.replace('{{teamUrlCode}}','raptors')\n",
    "\n",
    "# test_data = get(base_url + team_roster_endpoint).json()\n",
    "# print(len(test_data['league']['standard']['players']))"
   ]
  },
  {
   "cell_type": "code",
   "execution_count": null,
   "metadata": {},
   "outputs": [],
   "source": [
    "# CONNECTING TO MS SQL SERVER DATABASE\n",
    "# import urllib\n",
    "# import sqlalchemy as db\n",
    "\n",
    "# driver = \"{ODBC Driver 18 for SQL Server}\"\n",
    "# server = \"asqlsrv-nbadashboard-dev-canadacentral-001.database.windows.net\"\n",
    "# database = \"asqldb-nbadashboard-dev-canadacentral-001\"\n",
    "# username = \"db_admin\"\n",
    "# password = \"Salazar5991!\"\n",
    "\n",
    "# connection_string = f\"Driver={driver};Server=tcp:{server},1433;Database={database};Uid={username};Pwd={password};Encrypt=yes;TrustServerCertificate=no;Connection Timeout=30\";\n",
    "\n",
    "# params = urllib.parse.quote_plus(connection_string)\n",
    "\n",
    "# engine = db.create_engine(\"mssql+pyodbc:///?odbc_connect=%s\" % params)"
   ]
  },
  {
   "cell_type": "code",
   "execution_count": null,
   "metadata": {},
   "outputs": [],
   "source": [
    "# player_data_df = pd.DataFrame(api.player_data)\n",
    "# pd.set_option('display.max_rows', 500)\n",
    "# pd.set_option('display.max_columns', 500)\n",
    "# pd.set_option('display.width', 1000)\n",
    "# player_data_df.loc[player_data_df['teamId'] == '1610612748']"
   ]
  },
  {
   "cell_type": "code",
   "execution_count": 23,
   "metadata": {},
   "outputs": [],
   "source": [
    "class NBAStatsAPI:\n",
    "\n",
    "    base_url = \"https://data.nba.net\"\n",
    "    all_json = \"/prod/v1/today.json\"\n",
    "\n",
    "    \n",
    "    def __init__(self):\n",
    "        # Dict with JSON endpoints\n",
    "        self._data_links = self._get_all_data_links()\n",
    "        # List of dicts with each dict containing data for a team\n",
    "        self._team_data = self._get_team_data()\n",
    "        # List of dicts with each dict containing data for a player\n",
    "        self._player_data = self._get_player_data()\n",
    "        # List of dicts with each dict containing data for a scheduled game\n",
    "        self._schedule_data = self._get_schedule_data()\n",
    "        # Date data was last refreshed\n",
    "        self._date_last_refreshed = dt.datetime.strptime(self._data_links['currentDate'], '%Y%m%d')\n",
    "\n",
    "    @property\n",
    "    def data_links(self):\n",
    "        return self._data_links\n",
    "    \n",
    "    @property\n",
    "    def team_data(self):\n",
    "        return self._team_data\n",
    "\n",
    "    @property\n",
    "    def player_data(self):\n",
    "        return self._player_data\n",
    "\n",
    "    @property\n",
    "    def schedule_data(self):\n",
    "        return self._schedule_data\n",
    "\n",
    "    def _get_all_data_links(self):\n",
    "        data = get(NBAStatsAPI.base_url + NBAStatsAPI.all_json).json()\n",
    "        links = data['links']\n",
    "\n",
    "        return links\n",
    "\n",
    "    def _get_team_data(self):\n",
    "        team_data_endpoint = get(base_url + self.data_links['teams']).json()\n",
    "        team_data = team_data_endpoint['league']['standard']\n",
    "        team_data = list(filter(lambda x: x['isNBAFranchise'] == True, team_data))\n",
    "\n",
    "        return team_data\n",
    "\n",
    "    def _get_player_data(self):\n",
    "        player_data_endpoint = get(base_url + self.data_links['leagueRosterPlayers']).json()\n",
    "        player_data = player_data_endpoint['league']['standard']\n",
    "        \n",
    "        return player_data\n",
    "    \n",
    "    def _get_schedule_data(self):\n",
    "        schedule_data_endpoint = get(base_url + self.data_links['leagueSchedule']).json()\n",
    "        schedule_data = schedule_data_endpoint['league']['standard']\n",
    "\n",
    "        return schedule_data\n",
    "\n",
    "    def get_game_data(self, game_date: str, game_id: str):\n",
    "        game_data_link = self.data_links['boxscore']\n",
    "        game_data_link = game_data_link.replace('{{gameDate}}', f'{game_date}')\n",
    "        game_data_link = game_data_link.replace('{{gameId}}', f'{game_id}')\n",
    "\n",
    "        game_data_endpoint = get(base_url + game_data_link).json()\n",
    "        game_data = game_data_endpoint['basicGameData']\n",
    "\n",
    "        return game_data\n",
    "\n",
    "    def __str__(self):\n",
    "        return f\"Data Last Refreshed On: {self._date_last_refreshed.strftime('%B %d, %Y')}\""
   ]
  },
  {
   "cell_type": "code",
   "execution_count": 24,
   "metadata": {},
   "outputs": [],
   "source": [
    "# Instantiate API Object\n",
    "api = NBAStatsAPI()\n"
   ]
  },
  {
   "cell_type": "code",
   "execution_count": 27,
   "metadata": {},
   "outputs": [
    {
     "data": {
      "text/plain": [
       "30"
      ]
     },
     "execution_count": 27,
     "metadata": {},
     "output_type": "execute_result"
    }
   ],
   "source": [
    "len(api.team_data)"
   ]
  },
  {
   "cell_type": "code",
   "execution_count": 8,
   "metadata": {},
   "outputs": [],
   "source": [
    "# api.data_links\n",
    "\n",
    "# api.get_game_data('20211107', '0022100139').keys()\n",
    "# test_data = get(base_url + '/prod/v1/20211107/0022100139_mini_boxscore.json').json()['basicGameData']\n",
    "# api.schedule_data[204]"
   ]
  },
  {
   "cell_type": "code",
   "execution_count": null,
   "metadata": {},
   "outputs": [],
   "source": []
  },
  {
   "cell_type": "code",
   "execution_count": 1,
   "metadata": {},
   "outputs": [],
   "source": []
  },
  {
   "cell_type": "code",
   "execution_count": 1,
   "metadata": {},
   "outputs": [],
   "source": []
  },
  {
   "cell_type": "code",
   "execution_count": 3,
   "metadata": {},
   "outputs": [],
   "source": []
  },
  {
   "cell_type": "code",
   "execution_count": null,
   "metadata": {},
   "outputs": [],
   "source": []
  },
  {
   "cell_type": "code",
   "execution_count": 3,
   "metadata": {},
   "outputs": [],
   "source": []
  },
  {
   "cell_type": "code",
   "execution_count": null,
   "metadata": {},
   "outputs": [],
   "source": []
  }
 ],
 "metadata": {
  "interpreter": {
   "hash": "107edd188633f3628243175c9a0f4c6ce662afecb3bde372ce96fd046aa07f3f"
  },
  "kernelspec": {
   "display_name": "Python 3.9.10 ('.venv': venv)",
   "language": "python",
   "name": "python3"
  },
  "language_info": {
   "codemirror_mode": {
    "name": "ipython",
    "version": 3
   },
   "file_extension": ".py",
   "mimetype": "text/x-python",
   "name": "python",
   "nbconvert_exporter": "python",
   "pygments_lexer": "ipython3",
   "version": "3.9.12"
  },
  "orig_nbformat": 4
 },
 "nbformat": 4,
 "nbformat_minor": 2
}
