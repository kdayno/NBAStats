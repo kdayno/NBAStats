{
 "cells": [
  {
   "cell_type": "code",
   "execution_count": 10,
   "metadata": {},
   "outputs": [],
   "source": [
    "from requests import get\n",
    "from pprint import PrettyPrinter\n",
    "\n",
    "import pandas as pd\n",
    "\n",
    "printer = PrettyPrinter()\n",
    "\n",
    "base_url = \"https://data.nba.net\"\n",
    "all_json = \"/prod/v1/today.json\" "
   ]
  },
  {
   "cell_type": "code",
   "execution_count": null,
   "metadata": {},
   "outputs": [],
   "source": [
    "# NBA Stats - JSON Endpoints\n",
    "# http://data.nba.net/10s/prod/v1/2021/players.json > Player data for a specific year\n",
    "# https://data.nba.net/10s/prod/v1/2021/teams.json > Team data for a specific year\n",
    "# http://data.nba.net/data/10s/prod/v1/20180928/0011800001_boxscore.json > Box score data for a specific game (needs date and game id)\n",
    "# https://data.nba.net/10s/prod/v1/20180929/scoreboard.json > Box scores for all games on a specific day (needs date)\n",
    "# https://data.nba.net/10s/prod/v1/2021/schedule.json > Schedule data for a specific year"
   ]
  },
  {
   "cell_type": "code",
   "execution_count": null,
   "metadata": {},
   "outputs": [],
   "source": [
    "# CODE FOR PULLING TEAM ROSTER DATA\n",
    "# team_roster_endpoint = api.data_links['teamRoster']\n",
    "# team_roster_endpoint = team_roster_endpoint.replace('{{teamUrlCode}}','raptors')\n",
    "\n",
    "# test_data = get(base_url + team_roster_endpoint).json()\n",
    "# print(len(test_data['league']['standard']['players']))"
   ]
  },
  {
   "cell_type": "code",
   "execution_count": null,
   "metadata": {},
   "outputs": [],
   "source": [
    "# player_data_df = pd.DataFrame(api.player_data)\n",
    "# pd.set_option('display.max_rows', 500)\n",
    "# pd.set_option('display.max_columns', 500)\n",
    "# pd.set_option('display.width', 1000)\n",
    "# player_data_df.loc[player_data_df['teamId'] == '1610612748']"
   ]
  },
  {
   "cell_type": "code",
   "execution_count": 41,
   "metadata": {},
   "outputs": [],
   "source": [
    "class NBAStatsAPI:\n",
    "\n",
    "    base_url = \"https://data.nba.net\"\n",
    "    all_json = \"/prod/v1/today.json\"\n",
    "\n",
    "    \n",
    "    def __init__(self):\n",
    "        # Dict with JSON endpoints\n",
    "        self._data_links = self._get_all_data_links()\n",
    "        # List of dicts with each dict containing data for a team\n",
    "        self._team_data = self._get_team_data()\n",
    "        # List of dicts with each dict containing data for a player\n",
    "        self._player_data = self._get_player_data()\n",
    "        # List of dicts with each dict containing data for a scheduled game\n",
    "        self._schedule_data = self._get_schedule_data()\n",
    "        # Date data was last refreshed\n",
    "        self._date_last_refreshed = self._data_links['currentDate']\n",
    "\n",
    "\n",
    "    @property\n",
    "    def data_links(self):\n",
    "        return self._data_links\n",
    "    \n",
    "    @property\n",
    "    def team_data(self):\n",
    "        return self._team_data\n",
    "\n",
    "    @property\n",
    "    def player_data(self):\n",
    "        return self._player_data\n",
    "\n",
    "    @property\n",
    "    def schedule_data(self):\n",
    "        return self._schedule_data\n",
    "\n",
    "    def _get_all_data_links(self):\n",
    "        data = get(NBAStatsAPI.base_url + NBAStatsAPI.all_json).json()\n",
    "        links = data['links']\n",
    "\n",
    "        return links\n",
    "\n",
    "    def _get_team_data(self):\n",
    "        team_data_endpoint = get(base_url + self.data_links['teams']).json()\n",
    "        team_data = team_data_endpoint['league']['standard']\n",
    "        team_data = list(filter(lambda x: x['isNBAFranchise'] == True, team_data))\n",
    "\n",
    "        return team_data\n",
    "\n",
    "    def _get_player_data(self):\n",
    "        player_data_endpoint = get(base_url + self.data_links['leagueRosterPlayers']).json()\n",
    "        player_data = player_data_endpoint['league']['standard']\n",
    "        \n",
    "        return player_data\n",
    "    \n",
    "    def _get_schedule_data(self):\n",
    "        schedule_data_endpoint = get(base_url + self.data_links['leagueSchedule']).json()\n",
    "        schedule_data = schedule_data_endpoint['league']['standard']\n",
    "\n",
    "        return schedule_data\n",
    "\n",
    "    def get_game_data(self, game_date: str, game_id: str):\n",
    "        game_data_link = self.data_links['boxscore']\n",
    "        game_data_link = game_data_link.replace('{{gameDate}}', f'{game_date}')\n",
    "        game_data_link = game_data_link.replace('{{gameId}}', f'{game_id}')\n",
    "\n",
    "        game_data_endpoint = get(base_url + game_data_link).json()\n",
    "        game_data = game_data_endpoint['basicGameData']\n",
    "\n",
    "        return game_data\n",
    "\n",
    "    def __str__(self):\n",
    "        return f\"Data Last Refreshed: {self._date_last_refreshed}\""
   ]
  },
  {
   "cell_type": "code",
   "execution_count": 30,
   "metadata": {},
   "outputs": [
    {
     "data": {
      "text/plain": [
       "{'anchorDate': '20220408',\n",
       " 'currentDate': '20220408',\n",
       " 'calendar': '/prod/v1/calendar.json',\n",
       " 'todayScoreboard': '/prod/v1/20220408/scoreboard.json',\n",
       " 'currentScoreboard': '/prod/v1/20220408/scoreboard.json',\n",
       " 'teams': '/prod/v2/2021/teams.json',\n",
       " 'scoreboard': '/prod/v2/{{gameDate}}/scoreboard.json',\n",
       " 'leagueRosterPlayers': '/prod/v1/2021/players.json',\n",
       " 'allstarRoster': '/prod/v1/allstar/2018/AS_roster.json',\n",
       " 'leagueRosterCoaches': '/prod/v1/2021/coaches.json',\n",
       " 'leagueSchedule': '/prod/v1/2021/schedule.json',\n",
       " 'leagueConfStandings': '/prod/v1/current/standings_conference.json',\n",
       " 'leagueDivStandings': '/prod/v1/current/standings_division.json',\n",
       " 'leagueUngroupedStandings': '/prod/v1/current/standings_all.json',\n",
       " 'leagueMiniStandings': '/prod/v1/current/standings_all_no_sort_keys.json',\n",
       " 'leagueTeamStatsLeaders': '/prod/v1/2021/team_stats_rankings.json',\n",
       " 'leagueLastFiveGameTeamStats': '/prod/v1/2021/team_stats_last_five_games.json',\n",
       " 'previewArticle': '/prod/v1/{{gameDate}}/{{gameId}}_preview_article.json',\n",
       " 'recapArticle': '/prod/v1/{{gameDate}}/{{gameId}}_recap_article.json',\n",
       " 'gameBookPdf': '/prod/v1/{{gameDate}}/{{gameId}}_Book.pdf',\n",
       " 'boxscore': '/prod/v1/{{gameDate}}/{{gameId}}_boxscore.json',\n",
       " 'miniBoxscore': '/prod/v1/{{gameDate}}/{{gameId}}_mini_boxscore.json',\n",
       " 'pbp': '/prod/v1/{{gameDate}}/{{gameId}}_pbp_{{periodNum}}.json',\n",
       " 'leadTracker': '/prod/v1/{{gameDate}}/{{gameId}}_lead_tracker_{{periodNum}}.json',\n",
       " 'playerGameLog': '/prod/v1/2021/players/{{personId}}_gamelog.json',\n",
       " 'playerProfile': '/prod/v1/2021/players/{{personId}}_profile.json',\n",
       " 'playerUberStats': '/prod/v1/2021/players/{{personId}}_uber_stats.json',\n",
       " 'teamSchedule': '/prod/v1/2021/teams/{{teamUrlCode}}/schedule.json',\n",
       " 'teamsConfig': '/prod/2021/teams_config.json',\n",
       " 'teamRoster': '/prod/v1/2021/teams/{{teamUrlCode}}/roster.json',\n",
       " 'teamsConfigYear': '/prod/{{seasonScheduleYear}}/teams_config.json',\n",
       " 'teamScheduleYear': '/prod/v1/{{seasonScheduleYear}}/teams/{{teamUrlCode}}/schedule.json',\n",
       " 'teamLeaders': '/prod/v1/2021/teams/{{teamUrlCode}}/leaders.json',\n",
       " 'teamScheduleYear2': '/prod/v1/{{seasonScheduleYear}}/teams/{{teamId}}/schedule.json',\n",
       " 'teamLeaders2': '/prod/v1/2021/teams/{{teamId}}/leaders.json',\n",
       " 'teamICS': '/prod/teams/schedules/2021/{{teamUrlCode}}_home_schedule.ics',\n",
       " 'teamICS2': '/prod/teams/schedules/2021/{{teamUrlCode}}_schedule.ics',\n",
       " 'playoffsBracket': '/prod/v1/2019/playoffsBracket.json',\n",
       " 'playoffSeriesLeaders': '/prod/v1/2019/playoffs_{{seriesId}}_leaders.json',\n",
       " 'universalLinkMapping': 'https://www.nba.com/mobile/apps/configs/prod/universalLinkMapping.json',\n",
       " 'ticketLink': 'https://a.data.nba.com/tickets/single/{{seasonScheduleYear}}/{{gameId}}/{{trackingId}}'}"
      ]
     },
     "execution_count": 30,
     "metadata": {},
     "output_type": "execute_result"
    }
   ],
   "source": [
    "api.data_links"
   ]
  },
  {
   "cell_type": "code",
   "execution_count": 43,
   "metadata": {},
   "outputs": [
    {
     "name": "stdout",
     "output_type": "stream",
     "text": [
      "Data Last Refreshed: 20220408\n"
     ]
    }
   ],
   "source": [
    "# api = NBAStatsAPI()\n",
    "\n",
    "# api.get_game_data('20211107', '0022100139').keys()\n",
    "# test_data = get(base_url + '/prod/v1/20211107/0022100139_mini_boxscore.json').json()['basicGameData']\n",
    "# api.schedule_data[204]\n"
   ]
  },
  {
   "cell_type": "code",
   "execution_count": null,
   "metadata": {},
   "outputs": [],
   "source": [
    "\n"
   ]
  },
  {
   "cell_type": "code",
   "execution_count": null,
   "metadata": {},
   "outputs": [],
   "source": []
  },
  {
   "cell_type": "code",
   "execution_count": null,
   "metadata": {},
   "outputs": [],
   "source": []
  },
  {
   "cell_type": "code",
   "execution_count": null,
   "metadata": {},
   "outputs": [],
   "source": []
  },
  {
   "cell_type": "code",
   "execution_count": null,
   "metadata": {},
   "outputs": [],
   "source": []
  },
  {
   "cell_type": "code",
   "execution_count": null,
   "metadata": {},
   "outputs": [],
   "source": []
  },
  {
   "cell_type": "code",
   "execution_count": null,
   "metadata": {},
   "outputs": [],
   "source": []
  },
  {
   "cell_type": "code",
   "execution_count": null,
   "metadata": {},
   "outputs": [],
   "source": []
  },
  {
   "cell_type": "code",
   "execution_count": null,
   "metadata": {},
   "outputs": [],
   "source": []
  },
  {
   "cell_type": "code",
   "execution_count": null,
   "metadata": {},
   "outputs": [],
   "source": []
  },
  {
   "cell_type": "code",
   "execution_count": null,
   "metadata": {},
   "outputs": [],
   "source": []
  },
  {
   "cell_type": "code",
   "execution_count": null,
   "metadata": {},
   "outputs": [],
   "source": []
  },
  {
   "cell_type": "code",
   "execution_count": null,
   "metadata": {},
   "outputs": [],
   "source": []
  },
  {
   "cell_type": "code",
   "execution_count": null,
   "metadata": {},
   "outputs": [],
   "source": []
  },
  {
   "cell_type": "code",
   "execution_count": null,
   "metadata": {},
   "outputs": [],
   "source": []
  },
  {
   "cell_type": "code",
   "execution_count": 81,
   "metadata": {},
   "outputs": [],
   "source": []
  },
  {
   "cell_type": "code",
   "execution_count": 82,
   "metadata": {},
   "outputs": [],
   "source": []
  },
  {
   "cell_type": "code",
   "execution_count": null,
   "metadata": {},
   "outputs": [],
   "source": []
  },
  {
   "cell_type": "code",
   "execution_count": null,
   "metadata": {},
   "outputs": [],
   "source": []
  },
  {
   "cell_type": "code",
   "execution_count": null,
   "metadata": {},
   "outputs": [],
   "source": []
  },
  {
   "cell_type": "code",
   "execution_count": null,
   "metadata": {},
   "outputs": [],
   "source": []
  }
 ],
 "metadata": {
  "interpreter": {
   "hash": "107edd188633f3628243175c9a0f4c6ce662afecb3bde372ce96fd046aa07f3f"
  },
  "kernelspec": {
   "display_name": "Python 3.9.10 ('.venv': venv)",
   "language": "python",
   "name": "python3"
  },
  "language_info": {
   "codemirror_mode": {
    "name": "ipython",
    "version": 3
   },
   "file_extension": ".py",
   "mimetype": "text/x-python",
   "name": "python",
   "nbconvert_exporter": "python",
   "pygments_lexer": "ipython3",
   "version": "3.9.10"
  },
  "orig_nbformat": 4
 },
 "nbformat": 4,
 "nbformat_minor": 2
}
