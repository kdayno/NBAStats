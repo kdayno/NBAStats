{
 "cells": [
  {
   "cell_type": "code",
   "execution_count": 89,
   "metadata": {},
   "outputs": [],
   "source": [
    "from requests import get\n",
    "from pprint import PrettyPrinter\n",
    "import pyodbc\n",
    "import pandas as pd\n",
    "import sqlalchemy as db\n",
    "import urllib\n",
    "import datetime as dt\n",
    "\n",
    "printer = PrettyPrinter()"
   ]
  },
  {
   "cell_type": "code",
   "execution_count": null,
   "metadata": {},
   "outputs": [],
   "source": [
    "# NBA Stats - JSON Endpoints\n",
    "# http://data.nba.net/10s/prod/v1/2021/players.json > Player data for a specific year\n",
    "# https://data.nba.net/10s/prod/v1/2021/teams.json > Team data for a specific year\n",
    "# http://data.nba.net/data/10s/prod/v1/20180928/0011800001_boxscore.json > Box score data for a specific game (needs date and game id)\n",
    "# https://data.nba.net/10s/prod/v1/20180929/scoreboard.json > Box scores for all games on a specific day (needs date)\n",
    "# https://data.nba.net/10s/prod/v1/2021/schedule.json > Schedule data for a specific year"
   ]
  },
  {
   "cell_type": "code",
   "execution_count": null,
   "metadata": {},
   "outputs": [],
   "source": [
    "# GETS TEAM ROSTER DATA\n",
    "# team_roster_endpoint = api.data_links['teamRoster']\n",
    "# team_roster_endpoint = team_roster_endpoint.replace('{{teamUrlCode}}','raptors')\n",
    "\n",
    "# test_data = get(base_url + team_roster_endpoint).json()\n",
    "# print(len(test_data['league']['standard']['players']))"
   ]
  },
  {
   "cell_type": "code",
   "execution_count": null,
   "metadata": {},
   "outputs": [],
   "source": [
    "# CONNECTING TO MS SQL SERVER DATABASE\n",
    "# import urllib\n",
    "# import sqlalchemy as db\n",
    "\n",
    "# driver = \"{ODBC Driver 18 for SQL Server}\"\n",
    "# server = \"asqlsrv-nbadashboard-dev-canadacentral-001.database.windows.net\"\n",
    "# database = \"asqldb-nbadashboard-dev-canadacentral-001\"\n",
    "# username = \"db_admin\"\n",
    "# password = \"Salazar5991!\"\n",
    "\n",
    "# connection_string = f\"Driver={driver};Server=tcp:{server},1433;Database={database};Uid={username};Pwd={password};Encrypt=yes;TrustServerCertificate=no;Connection Timeout=30\";\n",
    "\n",
    "# params = urllib.parse.quote_plus(connection_string)\n",
    "\n",
    "# engine = db.create_engine(\"mssql+pyodbc:///?odbc_connect=%s\" % params)"
   ]
  },
  {
   "cell_type": "code",
   "execution_count": null,
   "metadata": {},
   "outputs": [],
   "source": [
    "# GET BOX SCORE DATA\n",
    "# api.data_links\n",
    "\n",
    "# api.get_game_data('20211107', '0022100139').keys()\n",
    "# test_data = get(base_url + '/prod/v1/20211107/0022100139_mini_boxscore.json').json()['basicGameData']\n",
    "# api.schedule_data[204]"
   ]
  },
  {
   "cell_type": "code",
   "execution_count": null,
   "metadata": {},
   "outputs": [],
   "source": [
    "# EXTRACTS NESTED DATA\n",
    "for player_dict in player_list_of_dicts:\n",
    "\n",
    "    # EXTRACTS DATA FROM \"teamSitesOnly\" DICT\n",
    "    team_sites_only_dict = player_dict['teamSitesOnly']\n",
    "\n",
    "    for key in team_sites_only_dict:\n",
    "        player_dict[f\"teamsitesonly_{key}\"] = team_sites_only_dict[key]\n",
    "\n",
    "    # EXTRACTS DATA FROM \"draft\" DICT\n",
    "    draft_dict = player_dict['draft']\n",
    "\n",
    "    for key in draft_dict:\n",
    "        player_dict[f\"draft_{key}\"] = draft_dict[key]\n",
    "\n",
    "    # EXTRACT DATA from \"teams\" LIST OF DICTS\n",
    "    teams_dict = player_dict['teams']\n",
    "    counter = 1\n",
    "    \n",
    "    for team in teams_dict:\n",
    "        for key in team:\n",
    "            player_dict[f\"teamhist_{counter}_{key}\"] = team[key]\n",
    "        counter += 1"
   ]
  },
  {
   "cell_type": "code",
   "execution_count": 17,
   "metadata": {},
   "outputs": [],
   "source": [
    "pd.set_option('display.max_rows', 500)\n",
    "pd.set_option('display.max_columns', 500)\n",
    "pd.set_option('display.width', 1000)\n",
    "# player_data_df.loc[player_data_df['teamId'] == '1610612748']"
   ]
  },
  {
   "cell_type": "code",
   "execution_count": 96,
   "metadata": {},
   "outputs": [],
   "source": [
    "class NBAStatsAPI:\n",
    "\n",
    "    base_url = \"https://data.nba.net\"\n",
    "    all_json = \"/prod/v1/today.json\"\n",
    "\n",
    "    \n",
    "    def __init__(self):\n",
    "        # Dict with JSON endpoints\n",
    "        self._data_links = self._get_all_data_links()\n",
    "        # List of dicts with each dict containing data for a team\n",
    "        self._team_data = self._get_team_data()\n",
    "        # List of dicts with each dict containing data for a player\n",
    "        self._player_data = self._get_player_data()\n",
    "        # List of dicts with each dict containing data for a scheduled game\n",
    "        self._schedule_data = self._get_schedule_data()\n",
    "        # Date data was last refreshed\n",
    "        self._date_last_refreshed = dt.datetime.strptime(self._data_links['currentDate'], '%Y%m%d')\n",
    "\n",
    "    @property\n",
    "    def data_links(self):\n",
    "        return self._data_links\n",
    "    \n",
    "    @property\n",
    "    def team_data(self):\n",
    "        return self._team_data\n",
    "\n",
    "    @property\n",
    "    def player_data(self):\n",
    "        return self._player_data\n",
    "\n",
    "    @property\n",
    "    def schedule_data(self):\n",
    "        return self._schedule_data\n",
    "\n",
    "    def _get_all_data_links(self):\n",
    "        data = get(NBAStatsAPI.base_url + NBAStatsAPI.all_json).json()\n",
    "        links = data['links']\n",
    "\n",
    "        return links\n",
    "\n",
    "    def _get_team_data(self):\n",
    "        team_data_endpoint = get(NBAStatsAPI.base_url + self.data_links['teams']).json()\n",
    "        team_data = team_data_endpoint['league']['standard']\n",
    "        team_data = list(filter(lambda x: x['isNBAFranchise'] == True, team_data))\n",
    "\n",
    "        return team_data\n",
    "\n",
    "    def _get_player_data(self):\n",
    "        player_data_endpoint = get(NBAStatsAPI.base_url + self.data_links['leagueRosterPlayers']).json()\n",
    "        player_data = player_data_endpoint['league']['standard']\n",
    "\n",
    "        # EXTRACTS NESTED PLAYER DATA\n",
    "        for player_dict in player_data:\n",
    "\n",
    "            # EXTRACTS DATA FROM \"teamSitesOnly\" DICT\n",
    "            team_sites_only_dict = player_dict['teamSitesOnly']\n",
    "\n",
    "            for key in team_sites_only_dict:\n",
    "                player_dict[f\"teamsitesonly_{key}\"] = team_sites_only_dict[key]\n",
    "\n",
    "            # EXTRACTS DATA FROM \"draft\" DICT\n",
    "            draft_dict = player_dict['draft']\n",
    "\n",
    "            for key in draft_dict:\n",
    "                player_dict[f\"draft_{key}\"] = draft_dict[key]\n",
    "\n",
    "            # EXTRACT DATA from \"teams\" LIST OF DICTS\n",
    "            teams_dict = player_dict['teams']\n",
    "            counter = 1\n",
    "            \n",
    "            for team in teams_dict:\n",
    "                for key in team:\n",
    "                    player_dict[f\"teamhist_{counter}_{key}\"] = team[key]\n",
    "                counter += 1\n",
    "        \n",
    "        return player_data\n",
    "    \n",
    "    def _get_schedule_data(self):\n",
    "        schedule_data_endpoint = get(NBAStatsAPI.base_url + self.data_links['leagueSchedule']).json()\n",
    "        schedule_data = schedule_data_endpoint['league']['standard']\n",
    "\n",
    "        return schedule_data\n",
    "\n",
    "    def get_game_data(self, game_date: str, game_id: str):\n",
    "        game_data_link = self.data_links['boxscore']\n",
    "        game_data_link = game_data_link.replace('{{gameDate}}', f'{game_date}')\n",
    "        game_data_link = game_data_link.replace('{{gameId}}', f'{game_id}')\n",
    "\n",
    "        game_data_endpoint = get(NBAStatsAPI.base_url + game_data_link).json()\n",
    "        game_data = game_data_endpoint['basicGameData']\n",
    "\n",
    "        return game_data\n",
    "\n",
    "    def __str__(self):\n",
    "        return f\"Data Last Refreshed On: {self._date_last_refreshed.strftime('%B %d, %Y')}\""
   ]
  },
  {
   "cell_type": "code",
   "execution_count": 6,
   "metadata": {},
   "outputs": [],
   "source": [
    "# Instantiate API Object\n",
    "api = NBAStatsAPI()\n"
   ]
  },
  {
   "cell_type": "code",
   "execution_count": null,
   "metadata": {},
   "outputs": [],
   "source": []
  },
  {
   "cell_type": "code",
   "execution_count": 94,
   "metadata": {},
   "outputs": [
    {
     "data": {
      "text/plain": [
       "list"
      ]
     },
     "execution_count": 94,
     "metadata": {},
     "output_type": "execute_result"
    }
   ],
   "source": [
    "type(api.player_data)"
   ]
  },
  {
   "cell_type": "code",
   "execution_count": 98,
   "metadata": {},
   "outputs": [],
   "source": [
    "base_url = \"https://data.nba.net\"\n",
    "# all_json = \"/prod/v1/today.json\"\n",
    "data = get(NBAStatsAPI.base_url + NBAStatsAPI.all_json).json()\n",
    "data_links = data['links']\n",
    "\n",
    "player_data_endpoint = get(base_url + data_links['leagueRosterPlayers']).json()\n",
    "player_data = player_data_endpoint['league']['standard']\n",
    "        "
   ]
  },
  {
   "cell_type": "code",
   "execution_count": 100,
   "metadata": {},
   "outputs": [],
   "source": [
    "# Keys: teamSitesOnly, teams, draft\n",
    "# player_data[0]['teamSitesOnly']\n",
    "\n",
    "player_list_of_dicts = player_data[0:2]"
   ]
  },
  {
   "cell_type": "code",
   "execution_count": 105,
   "metadata": {},
   "outputs": [
    {
     "data": {
      "text/plain": [
       "{'firstName': 'Precious',\n",
       " 'lastName': 'Achiuwa',\n",
       " 'temporaryDisplayName': 'Achiuwa, Precious',\n",
       " 'personId': '1630173',\n",
       " 'teamId': '1610612761',\n",
       " 'jersey': '5',\n",
       " 'isActive': True,\n",
       " 'pos': 'F',\n",
       " 'heightFeet': '6',\n",
       " 'heightInches': '8',\n",
       " 'heightMeters': '2.03',\n",
       " 'weightPounds': '225',\n",
       " 'weightKilograms': '102.1',\n",
       " 'dateOfBirthUTC': '1999-09-19',\n",
       " 'teamSitesOnly': {'playerCode': 'precious_achiuwa',\n",
       "  'posFull': 'Forward',\n",
       "  'displayAffiliation': 'Memphis/Nigeria',\n",
       "  'freeAgentCode': ''},\n",
       " 'teams': [{'teamId': '1610612748',\n",
       "   'seasonStart': '2020',\n",
       "   'seasonEnd': '2020'},\n",
       "  {'teamId': '1610612761', 'seasonStart': '2021', 'seasonEnd': '2021'}],\n",
       " 'draft': {'teamId': '1610612748',\n",
       "  'pickNum': '20',\n",
       "  'roundNum': '1',\n",
       "  'seasonYear': '2020'},\n",
       " 'nbaDebutYear': '2020',\n",
       " 'yearsPro': '1',\n",
       " 'collegeName': 'Memphis',\n",
       " 'lastAffiliation': 'Memphis/Nigeria',\n",
       " 'country': 'Nigeria',\n",
       " 'teamsitesonly_playerCode': 'precious_achiuwa',\n",
       " 'teamsitesonly_posFull': 'Forward',\n",
       " 'teamsitesonly_displayAffiliation': 'Memphis/Nigeria',\n",
       " 'teamsitesonly_freeAgentCode': '',\n",
       " 'draft_teamId': '1610612748',\n",
       " 'draft_pickNum': '20',\n",
       " 'draft_roundNum': '1',\n",
       " 'draft_seasonYear': '2020',\n",
       " 'teamhist_1_teamId': '1610612748',\n",
       " 'teamhist_1_seasonStart': '2020',\n",
       " 'teamhist_1_seasonEnd': '2020',\n",
       " 'teamhist_2_teamId': '1610612761',\n",
       " 'teamhist_2_seasonStart': '2021',\n",
       " 'teamhist_2_seasonEnd': '2021'}"
      ]
     },
     "execution_count": 105,
     "metadata": {},
     "output_type": "execute_result"
    }
   ],
   "source": [
    "player_list_of_dicts[0]"
   ]
  },
  {
   "cell_type": "code",
   "execution_count": 108,
   "metadata": {},
   "outputs": [
    {
     "data": {
      "text/plain": [
       "{'playerCode': 'precious_achiuwa',\n",
       " 'posFull': 'Forward',\n",
       " 'displayAffiliation': 'Memphis/Nigeria',\n",
       " 'freeAgentCode': ''}"
      ]
     },
     "execution_count": 108,
     "metadata": {},
     "output_type": "execute_result"
    }
   ],
   "source": [
    "player_list_of_dicts[0].get('teamSitesOnly')"
   ]
  },
  {
   "cell_type": "code",
   "execution_count": 109,
   "metadata": {},
   "outputs": [
    {
     "ename": "TypeError",
     "evalue": "'NoneType' object is not iterable",
     "output_type": "error",
     "traceback": [
      "\u001b[0;31m---------------------------------------------------------------------------\u001b[0m",
      "\u001b[0;31mTypeError\u001b[0m                                 Traceback (most recent call last)",
      "\u001b[1;32m/Users/kdayno/Development/02-PROJECTS/NBAWarRoomDashboard/develop.ipynb Cell 16'\u001b[0m in \u001b[0;36m<cell line: 3>\u001b[0;34m()\u001b[0m\n\u001b[1;32m      <a href='vscode-notebook-cell:/Users/kdayno/Development/02-PROJECTS/NBAWarRoomDashboard/develop.ipynb#ch0000026?line=0'>1</a>\u001b[0m test_dict \u001b[39m=\u001b[39m \u001b[39mNone\u001b[39;00m\n\u001b[0;32m----> <a href='vscode-notebook-cell:/Users/kdayno/Development/02-PROJECTS/NBAWarRoomDashboard/develop.ipynb#ch0000026?line=2'>3</a>\u001b[0m \u001b[39mfor\u001b[39;00m key \u001b[39min\u001b[39;00m test_dict:\n\u001b[1;32m      <a href='vscode-notebook-cell:/Users/kdayno/Development/02-PROJECTS/NBAWarRoomDashboard/develop.ipynb#ch0000026?line=3'>4</a>\u001b[0m     \u001b[39mprint\u001b[39m(key)\n",
      "\u001b[0;31mTypeError\u001b[0m: 'NoneType' object is not iterable"
     ]
    }
   ],
   "source": [
    "test_dict = None\n",
    "\n",
    "for key in test_dict:\n",
    "    print(key)"
   ]
  },
  {
   "cell_type": "code",
   "execution_count": 99,
   "metadata": {},
   "outputs": [
    {
     "ename": "KeyError",
     "evalue": "'teamSitesOnly'",
     "output_type": "error",
     "traceback": [
      "\u001b[0;31m---------------------------------------------------------------------------\u001b[0m",
      "\u001b[0;31mKeyError\u001b[0m                                  Traceback (most recent call last)",
      "\u001b[1;32m/Users/kdayno/Development/02-PROJECTS/NBAWarRoomDashboard/develop.ipynb Cell 15'\u001b[0m in \u001b[0;36m<cell line: 2>\u001b[0;34m()\u001b[0m\n\u001b[1;32m      <a href='vscode-notebook-cell:/Users/kdayno/Development/02-PROJECTS/NBAWarRoomDashboard/develop.ipynb#ch0000019?line=0'>1</a>\u001b[0m \u001b[39m# EXTRACTS NESTED PLAYER DATA\u001b[39;00m\n\u001b[1;32m      <a href='vscode-notebook-cell:/Users/kdayno/Development/02-PROJECTS/NBAWarRoomDashboard/develop.ipynb#ch0000019?line=1'>2</a>\u001b[0m \u001b[39mfor\u001b[39;00m player_dict \u001b[39min\u001b[39;00m player_data:\n\u001b[1;32m      <a href='vscode-notebook-cell:/Users/kdayno/Development/02-PROJECTS/NBAWarRoomDashboard/develop.ipynb#ch0000019?line=2'>3</a>\u001b[0m \n\u001b[1;32m      <a href='vscode-notebook-cell:/Users/kdayno/Development/02-PROJECTS/NBAWarRoomDashboard/develop.ipynb#ch0000019?line=3'>4</a>\u001b[0m     \u001b[39m# EXTRACTS DATA FROM \"teamSitesOnly\" DICT\u001b[39;00m\n\u001b[0;32m----> <a href='vscode-notebook-cell:/Users/kdayno/Development/02-PROJECTS/NBAWarRoomDashboard/develop.ipynb#ch0000019?line=4'>5</a>\u001b[0m     team_sites_only_dict \u001b[39m=\u001b[39m player_dict[\u001b[39m'\u001b[39;49m\u001b[39mteamSitesOnly\u001b[39;49m\u001b[39m'\u001b[39;49m]\n\u001b[1;32m      <a href='vscode-notebook-cell:/Users/kdayno/Development/02-PROJECTS/NBAWarRoomDashboard/develop.ipynb#ch0000019?line=6'>7</a>\u001b[0m     \u001b[39mfor\u001b[39;00m key \u001b[39min\u001b[39;00m team_sites_only_dict:\n\u001b[1;32m      <a href='vscode-notebook-cell:/Users/kdayno/Development/02-PROJECTS/NBAWarRoomDashboard/develop.ipynb#ch0000019?line=7'>8</a>\u001b[0m         player_dict[\u001b[39mf\u001b[39m\u001b[39m\"\u001b[39m\u001b[39mteamsitesonly_\u001b[39m\u001b[39m{\u001b[39;00mkey\u001b[39m}\u001b[39;00m\u001b[39m\"\u001b[39m] \u001b[39m=\u001b[39m team_sites_only_dict[key]\n",
      "\u001b[0;31mKeyError\u001b[0m: 'teamSitesOnly'"
     ]
    }
   ],
   "source": [
    "# EXTRACTS NESTED PLAYER DATA\n",
    "for player_dict in player_data:\n",
    "\n",
    "    # EXTRACTS DATA FROM \"teamSitesOnly\" DICT\n",
    "    team_sites_only_dict = player_dict.get('teamSitesOnly')\n",
    "    \n",
    "    if team_sites_only_dict != None:\n",
    "        for key in team_sites_only_dict:\n",
    "            player_dict[f\"teamsitesonly_{key}\"] = team_sites_only_dict[key]\n",
    "\n",
    "    # EXTRACTS DATA FROM \"draft\" DICT\n",
    "    draft_dict = player_dict.get('draft')\n",
    "\n",
    "    if draft_dict != None:\n",
    "        for key in draft_dict:\n",
    "            player_dict[f\"draft_{key}\"] = draft_dict[key]\n",
    "\n",
    "    # EXTRACT DATA from \"teams\" LIST OF DICTS\n",
    "    teams_dict = player_dict.get('teams')\n",
    "\n",
    "    if teams_dict != None:\n",
    "        counter = 1\n",
    "    \n",
    "        for team in teams_dict:\n",
    "            for key in team:\n",
    "                player_dict[f\"teamhist_{counter}_{key}\"] = team[key]\n",
    "            counter += 1"
   ]
  },
  {
   "cell_type": "code",
   "execution_count": null,
   "metadata": {},
   "outputs": [],
   "source": []
  },
  {
   "cell_type": "code",
   "execution_count": null,
   "metadata": {},
   "outputs": [],
   "source": []
  },
  {
   "cell_type": "code",
   "execution_count": null,
   "metadata": {},
   "outputs": [],
   "source": []
  },
  {
   "cell_type": "code",
   "execution_count": null,
   "metadata": {},
   "outputs": [],
   "source": []
  },
  {
   "cell_type": "code",
   "execution_count": null,
   "metadata": {},
   "outputs": [],
   "source": []
  },
  {
   "cell_type": "code",
   "execution_count": null,
   "metadata": {},
   "outputs": [],
   "source": []
  },
  {
   "cell_type": "code",
   "execution_count": 3,
   "metadata": {},
   "outputs": [],
   "source": []
  },
  {
   "cell_type": "code",
   "execution_count": null,
   "metadata": {},
   "outputs": [],
   "source": []
  }
 ],
 "metadata": {
  "interpreter": {
   "hash": "107edd188633f3628243175c9a0f4c6ce662afecb3bde372ce96fd046aa07f3f"
  },
  "kernelspec": {
   "display_name": "Python 3.9.10 ('.venv': venv)",
   "language": "python",
   "name": "python3"
  },
  "language_info": {
   "codemirror_mode": {
    "name": "ipython",
    "version": 3
   },
   "file_extension": ".py",
   "mimetype": "text/x-python",
   "name": "python",
   "nbconvert_exporter": "python",
   "pygments_lexer": "ipython3",
   "version": "3.9.12"
  },
  "orig_nbformat": 4
 },
 "nbformat": 4,
 "nbformat_minor": 2
}
