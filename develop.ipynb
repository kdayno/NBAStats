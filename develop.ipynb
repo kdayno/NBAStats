{
 "cells": [
  {
   "cell_type": "code",
   "execution_count": 3,
   "metadata": {},
   "outputs": [],
   "source": [
    "from requests import get\n",
    "from pprint import PrettyPrinter\n",
    "import pyodbc\n",
    "import pandas as pd\n",
    "import sqlalchemy as db\n",
    "import urllib\n",
    "import datetime as dt\n",
    "\n",
    "printer = PrettyPrinter()"
   ]
  },
  {
   "cell_type": "code",
   "execution_count": null,
   "metadata": {},
   "outputs": [],
   "source": [
    "# NBA Stats - JSON Endpoints\n",
    "# http://data.nba.net/10s/prod/v1/2021/players.json > Player data for a specific year\n",
    "# https://data.nba.net/10s/prod/v1/2021/teams.json > Team data for a specific year\n",
    "# http://data.nba.net/data/10s/prod/v1/20180928/0011800001_boxscore.json > Box score data for a specific game (needs date and game id)\n",
    "# https://data.nba.net/10s/prod/v1/20180929/scoreboard.json > Box scores for all games on a specific day (needs date)\n",
    "# https://data.nba.net/10s/prod/v1/2021/schedule.json > Schedule data for a specific year"
   ]
  },
  {
   "cell_type": "code",
   "execution_count": null,
   "metadata": {},
   "outputs": [],
   "source": [
    "# GETS TEAM ROSTER DATA\n",
    "# team_roster_endpoint = api.data_links['teamRoster']\n",
    "# team_roster_endpoint = team_roster_endpoint.replace('{{teamUrlCode}}','raptors')\n",
    "\n",
    "# test_data = get(base_url + team_roster_endpoint).json()\n",
    "# print(len(test_data['league']['standard']['players']))"
   ]
  },
  {
   "cell_type": "code",
   "execution_count": null,
   "metadata": {},
   "outputs": [],
   "source": [
    "# CONNECTING TO MS SQL SERVER DATABASE\n",
    "# import urllib\n",
    "# import sqlalchemy as db\n",
    "\n",
    "# driver = \"{ODBC Driver 18 for SQL Server}\"\n",
    "# server = \"asqlsrv-nbadashboard-dev-canadacentral-001.database.windows.net\"\n",
    "# database = \"asqldb-nbadashboard-dev-canadacentral-001\"\n",
    "# username = \"db_admin\"\n",
    "# password = \"Salazar5991!\"\n",
    "\n",
    "# connection_string = f\"Driver={driver};Server=tcp:{server},1433;Database={database};Uid={username};Pwd={password};Encrypt=yes;TrustServerCertificate=no;Connection Timeout=30\";\n",
    "\n",
    "# params = urllib.parse.quote_plus(connection_string)\n",
    "\n",
    "# engine = db.create_engine(\"mssql+pyodbc:///?odbc_connect=%s\" % params)"
   ]
  },
  {
   "cell_type": "code",
   "execution_count": null,
   "metadata": {},
   "outputs": [],
   "source": [
    "# GET BOX SCORE DATA\n",
    "# api.data_links\n",
    "\n",
    "# api.get_game_data('20211107', '0022100139').keys()\n",
    "# test_data = get(base_url + '/prod/v1/20211107/0022100139_mini_boxscore.json').json()['basicGameData']\n",
    "# api.schedule_data[204]"
   ]
  },
  {
   "cell_type": "code",
   "execution_count": 114,
   "metadata": {},
   "outputs": [],
   "source": [
    "# # EXTRACTS NESTED PLAYER DATA\n",
    "# for player_dict in player_data:\n",
    "\n",
    "#     # EXTRACTS DATA FROM \"teamSitesOnly\" DICT\n",
    "#     team_sites_only_dict = player_dict.get('teamSitesOnly')\n",
    "    \n",
    "#     if team_sites_only_dict != None:\n",
    "#         for key in team_sites_only_dict:\n",
    "#             player_dict[f\"teamsitesonly_{key}\"] = team_sites_only_dict[key]\n",
    "\n",
    "#     # EXTRACTS DATA FROM \"draft\" DICT\n",
    "#     draft_dict = player_dict.get('draft')\n",
    "\n",
    "#     if draft_dict != None:\n",
    "#         for key in draft_dict:\n",
    "#             player_dict[f\"draft_{key}\"] = draft_dict[key]\n",
    "\n",
    "#     # EXTRACT DATA from \"teams\" LIST OF DICTS\n",
    "#     teams_dict = player_dict.get('teams')\n",
    "\n",
    "#     if teams_dict != None:\n",
    "#         counter = 1\n",
    "    \n",
    "#         for team in teams_dict:\n",
    "#             for key in team:\n",
    "#                 player_dict[f\"teamhist_{counter}_{key}\"] = team[key]\n",
    "#             counter += 1"
   ]
  },
  {
   "cell_type": "code",
   "execution_count": 4,
   "metadata": {},
   "outputs": [],
   "source": [
    "pd.set_option('display.max_rows', 500)\n",
    "pd.set_option('display.max_columns', 500)\n",
    "pd.set_option('display.width', 1000)\n",
    "# player_data_df.loc[player_data_df['teamId'] == '1610612748']"
   ]
  },
  {
   "cell_type": "code",
   "execution_count": 190,
   "metadata": {},
   "outputs": [],
   "source": [
    "class NBAStatsAPI:\n",
    "\n",
    "    base_url = \"https://data.nba.net\"\n",
    "    all_json = \"/prod/v1/today.json\"\n",
    "\n",
    "    \n",
    "    def __init__(self):\n",
    "        # Dict with JSON endpoints\n",
    "        self._data_links = self._get_all_data_links()\n",
    "        # List of dicts with each dict containing data for a team\n",
    "        self._team_data = self._get_team_data()\n",
    "        # List of dicts with each dict containing data for a player\n",
    "        self._player_data = self._get_player_data()\n",
    "        # List of dicts with each dict containing data for a scheduled game\n",
    "        self._schedule_data = self._get_schedule_data()\n",
    "        # List of dicts with each dict containing \"game_id\" and \"game_date\"\n",
    "        self._game_ids_and_dates = self.__extract_data_attributes(self._schedule_data, ['gameId', 'startDateEastern'])\n",
    "        # Date data was last refreshed\n",
    "        self._date_last_refreshed = dt.datetime.strptime(self._data_links['currentDate'], '%Y%m%d')\n",
    "\n",
    "    @property\n",
    "    def data_links(self):\n",
    "        return self._data_links\n",
    "    \n",
    "    @property\n",
    "    def team_data(self):\n",
    "        return self._team_data\n",
    "\n",
    "    @property\n",
    "    def player_data(self):\n",
    "        return self._player_data\n",
    "\n",
    "    @property\n",
    "    def schedule_data(self):\n",
    "        return self._schedule_data\n",
    "\n",
    "    @property\n",
    "    def game_ids_and_dates(self):\n",
    "        return self._game_ids_and_dates\n",
    "\n",
    "    def _get_all_data_links(self):\n",
    "        data = get(NBAStatsAPI.base_url + NBAStatsAPI.all_json).json()\n",
    "        links = data['links']\n",
    "\n",
    "        return links\n",
    "\n",
    "    def _get_team_data(self):\n",
    "        team_data_endpoint = get(NBAStatsAPI.base_url + self.data_links['teams']).json()\n",
    "        team_data = team_data_endpoint['league']['standard']\n",
    "        team_data = list(filter(lambda x: x['isNBAFranchise'] == True, team_data))\n",
    "\n",
    "        return team_data\n",
    "\n",
    "    def _get_player_data(self):\n",
    "        player_data_endpoint = get(NBAStatsAPI.base_url + self.data_links['leagueRosterPlayers']).json()\n",
    "        player_data = player_data_endpoint['league']['standard']\n",
    "\n",
    "        # EXTRACTS NESTED PLAYER DATA\n",
    "        for player_dict in player_data:\n",
    "\n",
    "            # EXTRACTS DATA FROM \"teamSitesOnly\" DICT\n",
    "            player_dict = self.__extract_nested_dict(player_dict, 'teamSitesOnly')\n",
    "\n",
    "            # EXTRACTS DATA FROM \"draft\" DICT\n",
    "            player_dict = self.__extract_nested_dict(player_dict, 'draft')\n",
    "\n",
    "            # EXTRACT DATA from \"teams\" LIST OF DICTS\n",
    "            teams_dict = player_dict.get('teams')\n",
    "\n",
    "            if teams_dict != None:\n",
    "                counter = 1\n",
    "            \n",
    "                for team in teams_dict:\n",
    "                    for key in team:\n",
    "                        player_dict[f\"teamhist_{counter}_{key}\"] = team[key]\n",
    "                    counter += 1\n",
    "        \n",
    "        return player_data\n",
    "    \n",
    "    def _get_schedule_data(self):\n",
    "        schedule_data_endpoint = get(NBAStatsAPI.base_url + self.data_links['leagueSchedule']).json()\n",
    "        schedule_data = schedule_data_endpoint['league']['standard']\n",
    "\n",
    "        # EXTRACTS NESTED SCHEDULE DATA \n",
    "        for scheduled_game_dict in schedule_data:\n",
    "            scheduled_game_dict = self.__extract_nested_dict(scheduled_game_dict, 'period')\n",
    "            scheduled_game_dict = self.__extract_nested_dict(scheduled_game_dict, 'nugget')\n",
    "            scheduled_game_dict = self.__extract_nested_dict(scheduled_game_dict, 'hTeam')\n",
    "            scheduled_game_dict = self.__extract_nested_dict(scheduled_game_dict, 'vTeam')\n",
    "            scheduled_game_dict = self.__extract_nested_dict(scheduled_game_dict, 'playoffs')\n",
    "\n",
    "        return schedule_data\n",
    "\n",
    "    def get_game_data(self, game_date: str, game_id: str):\n",
    "        game_data_link = self.data_links['boxscore']\n",
    "        game_data_link = game_data_link.replace('{{gameDate}}', f'{game_date}')\n",
    "        game_data_link = game_data_link.replace('{{gameId}}', f'{game_id}')\n",
    "\n",
    "        game_data_endpoint = get(NBAStatsAPI.base_url + game_data_link).json()\n",
    "        game_data = game_data_endpoint['basicGameData']\n",
    "\n",
    "        return game_data\n",
    "\n",
    "    def __extract_nested_dict(self, parent:dict, nested_key:str):\n",
    "        nested = parent.get(f'{nested_key}')\n",
    "\n",
    "        if nested != None:\n",
    "            for key in nested:\n",
    "                parent[f\"{nested_key}_{key}\"] = nested[key]\n",
    "\n",
    "        return parent\n",
    "\n",
    "    def __extract_data_attributes(self, input_list_of_dicts: list, data_attributes: list):\n",
    "        '''\n",
    "        Extracts specific data attribute(s) from exisiting dataset(s) and stores it in a list of dictionaries.\n",
    "        \n",
    "        Example Format: output_list = [{'gameId':'0012100001','startDateEastern':'20211003'}, {'gameId': '0012100002', 'startDateEastern': '20211004'}]\n",
    "        The outputted list can then be used extract additional data from other NBA Statisitcs JSON Endpoints.\n",
    "\n",
    "        Parameters\n",
    "        ----------\n",
    "        input_list_of_dicts : list\n",
    "            List of dictionaries\n",
    "        data_attributes : list\n",
    "            List of strings \n",
    "\n",
    "        Returns\n",
    "        ----------\n",
    "        list\n",
    "            List of dictionaries that contains the specified data attributes\n",
    "        '''\n",
    "\n",
    "        output_list = []\n",
    "\n",
    "        for input_dict in input_list_of_dicts:\n",
    "\n",
    "            temp_dict = {key:value for key,value in input_dict.items() if (key in data_attributes)}\n",
    "            output_list.append(temp_dict)\n",
    "\n",
    "        return output_list\n",
    "\n",
    "    def __str__(self):\n",
    "        return f\"Data Last Refreshed On: {self._date_last_refreshed.strftime('%B %d, %Y')}\""
   ]
  },
  {
   "cell_type": "code",
   "execution_count": 191,
   "metadata": {},
   "outputs": [],
   "source": [
    "# Instantiate API Object\n",
    "api = NBAStatsAPI()\n"
   ]
  },
  {
   "cell_type": "code",
   "execution_count": 193,
   "metadata": {},
   "outputs": [
    {
     "data": {
      "text/plain": [
       "1359"
      ]
     },
     "execution_count": 193,
     "metadata": {},
     "output_type": "execute_result"
    }
   ],
   "source": []
  },
  {
   "cell_type": "code",
   "execution_count": 173,
   "metadata": {},
   "outputs": [
    {
     "data": {
      "text/plain": [
       "1359"
      ]
     },
     "execution_count": 173,
     "metadata": {},
     "output_type": "execute_result"
    }
   ],
   "source": []
  },
  {
   "cell_type": "code",
   "execution_count": 175,
   "metadata": {},
   "outputs": [],
   "source": [
    "game_ids_and_dates = []\n",
    "game_ids_and_dates = extract_data_attributes(api.schedule_data, ['gameId', 'startDateEastern'])"
   ]
  },
  {
   "cell_type": "code",
   "execution_count": 185,
   "metadata": {},
   "outputs": [],
   "source": [
    "player_ids = extract_data_attributes(api.player_data, ['personId', 'temporaryDisplayName'])"
   ]
  },
  {
   "cell_type": "code",
   "execution_count": 187,
   "metadata": {},
   "outputs": [
    {
     "data": {
      "text/plain": [
       "592"
      ]
     },
     "execution_count": 187,
     "metadata": {},
     "output_type": "execute_result"
    }
   ],
   "source": [
    "len(player_ids)"
   ]
  },
  {
   "cell_type": "code",
   "execution_count": 188,
   "metadata": {},
   "outputs": [
    {
     "data": {
      "text/plain": [
       "592"
      ]
     },
     "execution_count": 188,
     "metadata": {},
     "output_type": "execute_result"
    }
   ],
   "source": [
    "len(api.player_data)"
   ]
  },
  {
   "cell_type": "code",
   "execution_count": null,
   "metadata": {},
   "outputs": [],
   "source": []
  },
  {
   "cell_type": "code",
   "execution_count": null,
   "metadata": {},
   "outputs": [],
   "source": []
  },
  {
   "cell_type": "code",
   "execution_count": null,
   "metadata": {},
   "outputs": [],
   "source": []
  },
  {
   "cell_type": "code",
   "execution_count": 77,
   "metadata": {},
   "outputs": [
    {
     "name": "stdout",
     "output_type": "stream",
     "text": [
      "gameId <class 'str'>\n",
      "seasonStageId <class 'int'>\n",
      "gameUrlCode <class 'str'>\n",
      "statusNum <class 'int'>\n",
      "extendedStatusNum <class 'int'>\n",
      "isStartTimeTBD <class 'bool'>\n",
      "startTimeUTC <class 'str'>\n",
      "startDateEastern <class 'str'>\n",
      "isNeutralVenue <class 'bool'>\n",
      "startTimeEastern <class 'str'>\n",
      "isBuzzerBeater <class 'bool'>\n",
      "period <class 'dict'>\n",
      "nugget <class 'dict'>\n",
      "hTeam <class 'dict'>\n",
      "vTeam <class 'dict'>\n",
      "watch <class 'dict'>\n",
      "period_current <class 'int'>\n",
      "period_type <class 'int'>\n",
      "period_maxRegular <class 'int'>\n",
      "nugget_text <class 'str'>\n",
      "hTeam_teamId <class 'str'>\n",
      "hTeam_score <class 'str'>\n",
      "hTeam_win <class 'str'>\n",
      "hTeam_loss <class 'str'>\n",
      "vTeam_teamId <class 'str'>\n",
      "vTeam_score <class 'str'>\n",
      "vTeam_win <class 'str'>\n",
      "vTeam_loss <class 'str'>\n"
     ]
    }
   ],
   "source": [
    "# OUTPTUS DATATYPES FOR VALUES IN A DICT\n",
    "keys = api.schedule_data[0].keys()\n",
    "\n",
    "for key in keys:\n",
    "    print(key, type(api.schedule_data[0][key]))"
   ]
  },
  {
   "cell_type": "code",
   "execution_count": null,
   "metadata": {},
   "outputs": [],
   "source": []
  },
  {
   "cell_type": "code",
   "execution_count": 39,
   "metadata": {},
   "outputs": [],
   "source": [
    "# ### GETTING DATA FROM JSON ENDPOINTS ###\n",
    "# base_url = \"https://data.nba.net\"\n",
    "# data_links = data['links']\n",
    "\n",
    "# # '/prod/v1/{{gameDate}}/{{gameId}}_boxscore.json'\n",
    "# data_endpoint = get(base_url + '/prod/v1/20211003/0012100001_boxscore.json').json()\n",
    "# data.keys()\n",
    "        "
   ]
  },
  {
   "cell_type": "code",
   "execution_count": null,
   "metadata": {},
   "outputs": [],
   "source": []
  },
  {
   "cell_type": "code",
   "execution_count": null,
   "metadata": {},
   "outputs": [],
   "source": []
  },
  {
   "cell_type": "code",
   "execution_count": null,
   "metadata": {},
   "outputs": [],
   "source": []
  },
  {
   "cell_type": "code",
   "execution_count": null,
   "metadata": {},
   "outputs": [],
   "source": []
  }
 ],
 "metadata": {
  "interpreter": {
   "hash": "107edd188633f3628243175c9a0f4c6ce662afecb3bde372ce96fd046aa07f3f"
  },
  "kernelspec": {
   "display_name": "Python 3.9.10 ('.venv': venv)",
   "language": "python",
   "name": "python3"
  },
  "language_info": {
   "codemirror_mode": {
    "name": "ipython",
    "version": 3
   },
   "file_extension": ".py",
   "mimetype": "text/x-python",
   "name": "python",
   "nbconvert_exporter": "python",
   "pygments_lexer": "ipython3",
   "version": "3.9.12"
  },
  "orig_nbformat": 4
 },
 "nbformat": 4,
 "nbformat_minor": 2
}
